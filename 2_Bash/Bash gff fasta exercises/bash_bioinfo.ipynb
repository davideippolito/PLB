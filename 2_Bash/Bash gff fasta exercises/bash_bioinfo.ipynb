{
 "cells": [
  {
   "cell_type": "markdown",
   "metadata": {},
   "source": [
    "# Bash for Bioinformatics"
   ]
  },
  {
   "cell_type": "markdown",
   "metadata": {},
   "source": [
    "A scripting language is a programmable language that supports scripts, namely programs written for a special run-time environment that automate the execution of tasks that could alternatively be executed one-by-one by a human operator.\n",
    "<br>\n",
    "__Bash__ is the most common Unix textual shell that also provide a bash programming language.\n",
    "<br>\n",
    "In this course, the student will learn how to __automate extensive computational tasks__ (i.e. running programs, dealing with their outputs and making pipelines), \n",
    "and the concept of __batch processing__, namely the execution of a series of jobs in a program on a computer without manual intervention\n",
    "<br>\n",
    "Bash scripts will be used in order to build (bioinformatics) pipelines that transform raw data, execute programs, and present results.\n",
    "<br>\n",
    "The focus is given to real applications in the fields of bioinformatics for what concern the analysis do the input data and the performance valuation of computational tools.\n"
   ]
  },
  {
   "cell_type": "markdown",
   "metadata": {},
   "source": [
    "# Exercises\n",
    "\n",
    "## Exercise 1\n",
    "1. Create a script to download the gff3 file of _mycoplasma genitalium_ from ftp://ftp.ensemblgenomes.org/pub/bacteria/release-45/gff3/bacteria_13_collection/mycoplasma_genitalium_g37 such that no multiple copies of the file are made. \n",
    " - the gff3 file must be saved as `myco.gff3`\n",
    " - Suggested tools: `wget`, `if [ -f file ]`, `gunzip`"
   ]
  },
  {
   "cell_type": "code",
   "execution_count": 1,
   "metadata": {},
   "outputs": [
    {
     "name": "stdout",
     "output_type": "stream",
     "text": [
      "--2019-10-24 14:17:58--  ftp://ftp.ensemblgenomes.org/pub/bacteria/release-45/gff3/bacteria_13_collection/mycoplasma_genitalium_g37/Mycoplasma_genitalium_g37.ASM2732v1.37.gff3.gz\n",
      "           => ‘Mycoplasma_genitalium_g37.ASM2732v1.37.gff3.gz’\n",
      "Resolving ftp.ensemblgenomes.org (ftp.ensemblgenomes.org)... 193.62.197.94\n",
      "Connecting to ftp.ensemblgenomes.org (ftp.ensemblgenomes.org)|193.62.197.94|:21... connected.\n",
      "Logging in as anonymous ... Logged in!\n",
      "==> SYST ... done.    ==> PWD ... done.\n",
      "==> TYPE I ... done.  ==> CWD (1) /pub/bacteria/release-45/gff3/bacteria_13_collection/mycoplasma_genitalium_g37 ... done.\n",
      "==> SIZE Mycoplasma_genitalium_g37.ASM2732v1.37.gff3.gz ... 39544\n",
      "==> PASV ... done.    ==> RETR Mycoplasma_genitalium_g37.ASM2732v1.37.gff3.gz ... done.\n",
      "Length: 39544 (39K) (unauthoritative)\n",
      "\n",
      "Mycoplasma_genitali 100%[===================>]  38.62K  --.-KB/s    in 0.07s   \n",
      "\n",
      "2019-10-24 14:17:59 (537 KB/s) - ‘Mycoplasma_genitalium_g37.ASM2732v1.37.gff3.gz’ saved [39544]\n",
      "\n"
     ]
    }
   ],
   "source": [
    "filename=\"Mycoplasma_genitalium_g37.ASM2732v1.37.gff3\"\n",
    "\n",
    "if [ -f \"${filename}.gz\" ]; then\n",
    "    rm ${filename}.gz\n",
    "fi\n",
    "\n",
    "wget ftp://ftp.ensemblgenomes.org/pub/bacteria/release-45/gff3/bacteria_13_collection/mycoplasma_genitalium_g37/${filename}.gz\n",
    "gunzip ${filename}.gz\n",
    "mv $filename myco.gff3"
   ]
  },
  {
   "cell_type": "code",
   "execution_count": 4,
   "metadata": {},
   "outputs": [
    {
     "name": "stdout",
     "output_type": "stream",
     "text": [
      "##gff-version 3\n",
      "##sequence-region   Chromosome 1 580076\n",
      "#!genome-build European Nucleotide Archive ASM2732v1\n",
      "#!genome-version ASM2732v1\n",
      "#!genome-date 2014-05\n",
      "#!genome-build-accession GCA_000027325.1\n",
      "#!genebuild-last-updated 2014-05\n",
      "Chromosome\tEuropean Nucleotide Archive\tchromosome\t1\t580076\t.\t.\t.\tID=chromosome:Chromosome;Alias=L43967.2;Is_circular=true\n",
      "###\n",
      "Chromosome\tena_misc_feature\tbiological_region\t1\t580076\t.\t+\t.\texternal_name=The isolate originally sequenced%2C while still G37%2C came from the laboratory of P.C. Hu at the University of North Carolina. Dr. Hu has retired and the sequenced stock is no longer available. The stock used for re-sequencing came directly from ATCC%2C and...;logic_name=ena_misc_feature\n",
      "Chromosome\tena\tgene\t686\t1828\t.\t+\t.\tID=gene:MG_001;Name=dnaN;biotype=protein_coding;description=DNA polymerase III%2C beta subunit;gene_id=MG_001;logic_name=ena\n",
      "Chromosome\tena\tmRNA\t686\t1828\t.\t+\t.\tID=transcript:AAC71217;Parent=gene:MG_001;Name=dnaN-1;biotype=protein_coding;transcript_id=AAC71217\n",
      "Chromosome\tena\texon\t686\t1828\t.\t+\t.\tParent=transcript:AAC71217;Name=AAC71217-1;constitutive=1;ensembl_end_phase=0;ensembl_phase=0;exon_id=AAC71217-1;rank=1\n",
      "Chromosome\tena\tCDS\t686\t1828\t.\t+\t0\tID=CDS:AAC71217;Parent=transcript:AAC71217;protein_id=AAC71217\n",
      "###\n",
      "Chromosome\tena_variation\tbiological_region\t728\t728\t.\t+\t.\texternal_name=MG_001%3B L43967.2:variation:728;logic_name=ena_variation\n",
      "Chromosome\tena\tgene\t1828\t2760\t.\t+\t.\tID=gene:MG_002;biotype=protein_coding;description=DnaJ domain protein;gene_id=MG_002;logic_name=ena\n",
      "Chromosome\tena\tmRNA\t1828\t2760\t.\t+\t.\tID=transcript:AAC71218;Parent=gene:MG_002;biotype=protein_coding;transcript_id=AAC71218\n",
      "Chromosome\tena\texon\t1828\t2760\t.\t+\t.\tParent=transcript:AAC71218;Name=AAC71218-1;constitutive=1;ensembl_end_phase=0;ensembl_phase=0;exon_id=AAC71218-1;rank=1\n",
      "Chromosome\tena\tCDS\t1828\t2760\t.\t+\t0\tID=CDS:AAC71218;Parent=transcript:AAC71218;protein_id=AAC71218\n"
     ]
    }
   ],
   "source": [
    "head -n 20 myco.gff3"
   ]
  },
  {
   "cell_type": "markdown",
   "metadata": {},
   "source": [
    "<hr>\n",
    "## Excericise 2\n",
    "2. From the file `myco.gff3`: \n",
    " 1. count how many chromosomes are reported inside the file\n",
    " 2. count how many genes are in the list\n",
    " 3. give the non redundant list of sources of the reported features\n",
    " 4. which feature types are reported in the fyle, and for each of them how many feature are reported\n",
    " 5. list gene symbols (Name) without duplicates\n",
    " 6. count how many genes do not have a name\n",
    " \n",
    "The queries must be done in one single line, when it is possible.\n",
    "<br>\n",
    "Suggested tools: `grep`, `wc`, `sort`, `uniq`, `sed`"
   ]
  },
  {
   "cell_type": "code",
   "execution_count": 1,
   "metadata": {},
   "outputs": [
    {
     "name": "stdout",
     "output_type": "stream",
     "text": [
      "1\n"
     ]
    }
   ],
   "source": [
    "grep -v -P \"^#\" myco.gff3 | cut -f1 | sort | uniq | wc -l "
   ]
  },
  {
   "cell_type": "code",
   "execution_count": 2,
   "metadata": {},
   "outputs": [
    {
     "name": "stdout",
     "output_type": "stream",
     "text": [
      "477\n"
     ]
    }
   ],
   "source": [
    "grep -v -P \"^#\" myco.gff3 | grep -P \"\\tgene\\t\" | wc -l "
   ]
  },
  {
   "cell_type": "code",
   "execution_count": 3,
   "metadata": {},
   "outputs": [
    {
     "name": "stdout",
     "output_type": "stream",
     "text": [
      "ena\n",
      "ena_gene\n",
      "ena_misc_feature\n",
      "ena_misc_rna\n",
      "ena_variation\n",
      "European Nucleotide Archive\n",
      "Rfam\n"
     ]
    }
   ],
   "source": [
    "grep -v -P \"^#\" myco.gff3 | cut -f2 | sort | uniq"
   ]
  },
  {
   "cell_type": "code",
   "execution_count": 4,
   "metadata": {},
   "outputs": [
    {
     "name": "stdout",
     "output_type": "stream",
     "text": [
      "     47 biological_region\n",
      "    476 CDS\n",
      "      1 chromosome\n",
      "    559 exon\n",
      "    477 gene\n",
      "    476 mRNA\n",
      "      2 ncRNA_gene\n",
      "      9 rRNA\n",
      "      9 rRNA_gene\n",
      "     74 transcript\n",
      "     71 tRNA_gene\n"
     ]
    }
   ],
   "source": [
    "grep -v -P \"^#\" myco.gff3 | cut -f3 | sort | uniq -c"
   ]
  },
  {
   "cell_type": "code",
   "execution_count": 46,
   "metadata": {},
   "outputs": [
    {
     "name": "stdout",
     "output_type": "stream",
     "text": [
      "213\n"
     ]
    }
   ],
   "source": [
    "fields=`grep -v -P \"^#\" myco.gff3 | grep -P \"\\tgene\\t\" | cut -f9`\n",
    "echo \"$fields\" | sed s/\\;/\\\\\\n/g | grep -P \"^Name=\" | sed s/Name=//g | sort | uniq | wc -l"
   ]
  },
  {
   "cell_type": "code",
   "execution_count": 48,
   "metadata": {},
   "outputs": [
    {
     "name": "stdout",
     "output_type": "stream",
     "text": [
      "264\n"
     ]
    }
   ],
   "source": [
    "grep -v -P \"^#\" myco.gff3 | grep -P \"\\tgene\\t\" | grep -v \"Name=\" | wc -l"
   ]
  },
  {
   "cell_type": "markdown",
   "metadata": {},
   "source": [
    "<hr>\n",
    "## Excercies 3\n",
    "\n",
    "Download the human annotation file at this link: ftp://ftp.ensembl.org/pub/release-98/gff3/homo_sapiens/Homo_sapiens.GRCh38.98.gff3.gz\n",
    "<br>\n",
    "and rename it as grch38.gff3.\n",
    "<br>\n",
    "Answer to the same questions of excercise 2, then make the same statistics but only for features on the chromsome 1.\n",
    "<br>\n",
    "Suggested tools: `grep`, `wc -l`, `mktemp`, `sort`, `uniq`, `sed`"
   ]
  },
  {
   "cell_type": "code",
   "execution_count": 51,
   "metadata": {},
   "outputs": [
    {
     "name": "stdout",
     "output_type": "stream",
     "text": [
      "rm: cannot remove 'Homo_sapiens.GRCh38.98.gff3.gz': No such file or directory\n",
      "--2019-10-24 15:21:02--  ftp://ftp.ensembl.org/pub/release-98/gff3/homo_sapiens/Homo_sapiens.GRCh38.98.gff3.gz\n",
      "           => ‘Homo_sapiens.GRCh38.98.gff3.gz’\n",
      "Resolving ftp.ensembl.org (ftp.ensembl.org)... 193.62.193.8\n",
      "Connecting to ftp.ensembl.org (ftp.ensembl.org)|193.62.193.8|:21... connected.\n",
      "Logging in as anonymous ... Logged in!\n",
      "==> SYST ... done.    ==> PWD ... done.\n",
      "==> TYPE I ... done.  ==> CWD (1) /pub/release-98/gff3/homo_sapiens ... done.\n",
      "==> SIZE Homo_sapiens.GRCh38.98.gff3.gz ... 41163349\n",
      "==> PASV ... done.    ==> RETR Homo_sapiens.GRCh38.98.gff3.gz ... done.\n",
      "Length: 41163349 (39M) (unauthoritative)\n",
      "\n",
      "Homo_sapiens.GRCh38 100%[===================>]  39.26M  5.01MB/s    in 7.6s    \n",
      "\n",
      "2019-10-24 15:21:11 (5.19 MB/s) - ‘Homo_sapiens.GRCh38.98.gff3.gz’ saved [41163349]\n",
      "\n"
     ]
    }
   ],
   "source": [
    "rm Homo_sapiens.GRCh38.98.gff3.gz\n",
    "wget ftp://ftp.ensembl.org/pub/release-98/gff3/homo_sapiens/Homo_sapiens.GRCh38.98.gff3.gz\n",
    "gunzip Homo_sapiens.GRCh38.98.gff3.gz\n",
    "mv Homo_sapiens.GRCh38.98.gff3 grch38.gff3"
   ]
  },
  {
   "cell_type": "code",
   "execution_count": 53,
   "metadata": {},
   "outputs": [
    {
     "name": "stdout",
     "output_type": "stream",
     "text": [
      "##gff-version 3\n",
      "##sequence-region   1 1 248956422\n",
      "##sequence-region   10 1 133797422\n",
      "##sequence-region   11 1 135086622\n",
      "##sequence-region   12 1 133275309\n",
      "##sequence-region   13 1 114364328\n",
      "##sequence-region   14 1 107043718\n",
      "##sequence-region   15 1 101991189\n",
      "##sequence-region   16 1 90338345\n",
      "##sequence-region   17 1 83257441\n"
     ]
    }
   ],
   "source": [
    "head -n 10 grch38.gff3"
   ]
  },
  {
   "cell_type": "code",
   "execution_count": 57,
   "metadata": {},
   "outputs": [
    {
     "name": "stdout",
     "output_type": "stream",
     "text": [
      "1\tEnsembl\tchromosome\t1\t248956422\t.\t.\t.\tID=chromosome:1;Alias=CM000663.2,chr1,NC_000001.11\n",
      "1\t.\tbiological_region\t10469\t11240\t1.3e+03\t.\t.\texternal_name=oe %3D 0.79;logic_name=cpg\n",
      "1\t.\tbiological_region\t10650\t10657\t0.999\t+\t.\tlogic_name=eponine\n",
      "1\t.\tbiological_region\t10655\t10657\t0.999\t-\t.\tlogic_name=eponine\n",
      "1\t.\tbiological_region\t10678\t10687\t0.999\t+\t.\tlogic_name=eponine\n",
      "1\t.\tbiological_region\t10681\t10688\t0.999\t-\t.\tlogic_name=eponine\n",
      "1\t.\tbiological_region\t10707\t10716\t0.999\t+\t.\tlogic_name=eponine\n",
      "1\t.\tbiological_region\t10708\t10718\t0.999\t-\t.\tlogic_name=eponine\n",
      "1\t.\tbiological_region\t10735\t10747\t0.999\t-\t.\tlogic_name=eponine\n",
      "1\t.\tbiological_region\t10737\t10744\t0.999\t+\t.\tlogic_name=eponine\n",
      "1\t.\tbiological_region\t10766\t10773\t0.999\t+\t.\tlogic_name=eponine\n",
      "1\t.\tbiological_region\t10770\t10779\t0.999\t-\t.\tlogic_name=eponine\n",
      "1\t.\tbiological_region\t10796\t10801\t0.999\t+\t.\tlogic_name=eponine\n",
      "1\t.\tbiological_region\t10810\t10819\t0.999\t-\t.\tlogic_name=eponine\n",
      "1\t.\tbiological_region\t10870\t10872\t0.999\t+\t.\tlogic_name=eponine\n",
      "1\t.\tbiological_region\t10889\t10893\t0.999\t-\t.\tlogic_name=eponine\n",
      "1\thavana\tpseudogene\t11869\t14409\t.\t+\t.\tID=gene:ENSG00000223972;Name=DDX11L1;biotype=transcribed_unprocessed_pseudogene;description=DEAD/H-box helicase 11 like 1 [Source:HGNC Symbol%3BAcc:HGNC:37102];gene_id=ENSG00000223972;logic_name=havana_homo_sapiens;version=5\n",
      "1\thavana\tlnc_RNA\t11869\t14409\t.\t+\t.\tID=transcript:ENST00000456328;Parent=gene:ENSG00000223972;Name=DDX11L1-202;biotype=lncRNA;tag=basic;transcript_id=ENST00000456328;transcript_support_level=1;version=2\n",
      "1\thavana\texon\t11869\t12227\t.\t+\t.\tParent=transcript:ENST00000456328;Name=ENSE00002234944;constitutive=0;ensembl_end_phase=-1;ensembl_phase=-1;exon_id=ENSE00002234944;rank=1;version=1\n",
      "1\thavana\texon\t12613\t12721\t.\t+\t.\tParent=transcript:ENST00000456328;Name=ENSE00003582793;constitutive=0;ensembl_end_phase=-1;ensembl_phase=-1;exon_id=ENSE00003582793;rank=2;version=1\n",
      "1\thavana\texon\t13221\t14409\t.\t+\t.\tParent=transcript:ENST00000456328;Name=ENSE00002312635;constitutive=0;ensembl_end_phase=-1;ensembl_phase=-1;exon_id=ENSE00002312635;rank=3;version=1\n",
      "1\thavana\tpseudogenic_transcript\t12010\t13670\t.\t+\t.\tID=transcript:ENST00000450305;Parent=gene:ENSG00000223972;Name=DDX11L1-201;biotype=transcribed_unprocessed_pseudogene;tag=basic;transcript_id=ENST00000450305;transcript_support_level=NA;version=2\n",
      "1\thavana\texon\t12010\t12057\t.\t+\t.\tParent=transcript:ENST00000450305;Name=ENSE00001948541;constitutive=0;ensembl_end_phase=-1;ensembl_phase=-1;exon_id=ENSE00001948541;rank=1;version=1\n",
      "1\thavana\texon\t12179\t12227\t.\t+\t.\tParent=transcript:ENST00000450305;Name=ENSE00001671638;constitutive=0;ensembl_end_phase=-1;ensembl_phase=-1;exon_id=ENSE00001671638;rank=2;version=2\n",
      "1\thavana\texon\t12613\t12697\t.\t+\t.\tParent=transcript:ENST00000450305;Name=ENSE00001758273;constitutive=0;ensembl_end_phase=-1;ensembl_phase=-1;exon_id=ENSE00001758273;rank=3;version=2\n",
      "grep: write error: Broken pipe\n"
     ]
    }
   ],
   "source": [
    "grep -v \"#\" grch38.gff3 | head -n 25"
   ]
  },
  {
   "cell_type": "code",
   "execution_count": 3,
   "metadata": {},
   "outputs": [],
   "source": [
    "function stats {\n",
    "    ifile=\"$1\"\n",
    "\n",
    "    echo -n \"number of chomosomes: \"\n",
    "    grep -v -P \"^#\" $ifile | grep -P \"\\tchromosome\\t\" | wc -l \n",
    "    grep -v -P \"^#\" $ifile | grep -P \"\\tchromosome\\t\"\n",
    "\n",
    "    echo \"\"\n",
    "    echo -n \"number of genes: \"\n",
    "    grep -v -P \"^#\" $ifile | grep -P \"\\tgene\\t\" | wc -l \n",
    "\n",
    "    echo \"\"\n",
    "    echo \"sources:\"\n",
    "    grep -v -P \"^#\" $ifile | cut -f2 | sort | uniq\n",
    "\n",
    "    echo \"\"\n",
    "    echo \"feature types:\"\n",
    "    grep -v -P \"^#\" $ifile | cut -f3 | sort | uniq -c\n",
    "\n",
    "    echo \"\"\n",
    "    echo -n \"number of gene names: \"\n",
    "    fields=`grep -v -P \"^#\" $ifile | grep -P \"\\tgene\\t\" | cut -f9`\n",
    "    echo \"$fields\" | sed s/\\;/\\\\\\n/g | grep -P \"^Name=\" | sed s/Name=//g | sort | uniq | wc -l\n",
    "\n",
    "    echo \"\"\n",
    "    echo -n \"number of genes without names: \"\n",
    "    grep -v -P \"^#\" $ifile | grep -P \"\\tgene\\t\" | grep -v \"Name=\" | wc -l\n",
    "}\n",
    "\n",
    "#stats \"grch38.gff3\"\n"
   ]
  },
  {
   "cell_type": "code",
   "execution_count": 4,
   "metadata": {},
   "outputs": [
    {
     "name": "stdout",
     "output_type": "stream",
     "text": [
      "number of chomosomes: 25\n",
      "1\tEnsembl\u001b[01;31m\u001b[K\tchromosome\t\u001b[m\u001b[K1\t248956422\t.\t.\t.\tID=chromosome:1;Alias=CM000663.2,chr1,NC_000001.11\n",
      "10\tEnsembl\u001b[01;31m\u001b[K\tchromosome\t\u001b[m\u001b[K1\t133797422\t.\t.\t.\tID=chromosome:10;Alias=CM000672.2,chr10,NC_000010.11\n",
      "11\tEnsembl\u001b[01;31m\u001b[K\tchromosome\t\u001b[m\u001b[K1\t135086622\t.\t.\t.\tID=chromosome:11;Alias=CM000673.2,chr11,NC_000011.10\n",
      "12\tEnsembl\u001b[01;31m\u001b[K\tchromosome\t\u001b[m\u001b[K1\t133275309\t.\t.\t.\tID=chromosome:12;Alias=CM000674.2,chr12,NC_000012.12\n",
      "13\tEnsembl\u001b[01;31m\u001b[K\tchromosome\t\u001b[m\u001b[K1\t114364328\t.\t.\t.\tID=chromosome:13;Alias=CM000675.2,chr13,NC_000013.11\n",
      "14\tEnsembl\u001b[01;31m\u001b[K\tchromosome\t\u001b[m\u001b[K1\t107043718\t.\t.\t.\tID=chromosome:14;Alias=CM000676.2,chr14,NC_000014.9\n",
      "15\tEnsembl\u001b[01;31m\u001b[K\tchromosome\t\u001b[m\u001b[K1\t101991189\t.\t.\t.\tID=chromosome:15;Alias=CM000677.2,chr15,NC_000015.10\n",
      "16\tEnsembl\u001b[01;31m\u001b[K\tchromosome\t\u001b[m\u001b[K1\t90338345\t.\t.\t.\tID=chromosome:16;Alias=CM000678.2,chr16,NC_000016.10\n",
      "17\tEnsembl\u001b[01;31m\u001b[K\tchromosome\t\u001b[m\u001b[K1\t83257441\t.\t.\t.\tID=chromosome:17;Alias=CM000679.2,chr17,NC_000017.11\n",
      "18\tEnsembl\u001b[01;31m\u001b[K\tchromosome\t\u001b[m\u001b[K1\t80373285\t.\t.\t.\tID=chromosome:18;Alias=CM000680.2,chr18,NC_000018.10\n",
      "19\tEnsembl\u001b[01;31m\u001b[K\tchromosome\t\u001b[m\u001b[K1\t58617616\t.\t.\t.\tID=chromosome:19;Alias=CM000681.2,chr19,NC_000019.10\n",
      "2\tEnsembl\u001b[01;31m\u001b[K\tchromosome\t\u001b[m\u001b[K1\t242193529\t.\t.\t.\tID=chromosome:2;Alias=CM000664.2,chr2,NC_000002.12\n",
      "20\tEnsembl\u001b[01;31m\u001b[K\tchromosome\t\u001b[m\u001b[K1\t64444167\t.\t.\t.\tID=chromosome:20;Alias=CM000682.2,chr20,NC_000020.11\n",
      "21\tEnsembl\u001b[01;31m\u001b[K\tchromosome\t\u001b[m\u001b[K1\t46709983\t.\t.\t.\tID=chromosome:21;Alias=CM000683.2,chr21,NC_000021.9\n",
      "22\tEnsembl\u001b[01;31m\u001b[K\tchromosome\t\u001b[m\u001b[K1\t50818468\t.\t.\t.\tID=chromosome:22;Alias=CM000684.2,chr22,NC_000022.11\n",
      "3\tEnsembl\u001b[01;31m\u001b[K\tchromosome\t\u001b[m\u001b[K1\t198295559\t.\t.\t.\tID=chromosome:3;Alias=CM000665.2,chr3,NC_000003.12\n",
      "4\tEnsembl\u001b[01;31m\u001b[K\tchromosome\t\u001b[m\u001b[K1\t190214555\t.\t.\t.\tID=chromosome:4;Alias=CM000666.2,chr4,NC_000004.12\n",
      "5\tEnsembl\u001b[01;31m\u001b[K\tchromosome\t\u001b[m\u001b[K1\t181538259\t.\t.\t.\tID=chromosome:5;Alias=CM000667.2,chr5,NC_000005.10\n",
      "6\tEnsembl\u001b[01;31m\u001b[K\tchromosome\t\u001b[m\u001b[K1\t170805979\t.\t.\t.\tID=chromosome:6;Alias=CM000668.2,chr6,NC_000006.12\n",
      "7\tEnsembl\u001b[01;31m\u001b[K\tchromosome\t\u001b[m\u001b[K1\t159345973\t.\t.\t.\tID=chromosome:7;Alias=CM000669.2,chr7,NC_000007.14\n",
      "8\tEnsembl\u001b[01;31m\u001b[K\tchromosome\t\u001b[m\u001b[K1\t145138636\t.\t.\t.\tID=chromosome:8;Alias=CM000670.2,chr8,NC_000008.11\n",
      "9\tEnsembl\u001b[01;31m\u001b[K\tchromosome\t\u001b[m\u001b[K1\t138394717\t.\t.\t.\tID=chromosome:9;Alias=CM000671.2,chr9,NC_000009.12\n",
      "MT\tEnsembl\u001b[01;31m\u001b[K\tchromosome\t\u001b[m\u001b[K1\t16569\t.\t.\t.\tID=chromosome:MT;Alias=chrM,J01415.2,NC_012920.1\n",
      "X\tEnsembl\u001b[01;31m\u001b[K\tchromosome\t\u001b[m\u001b[K1\t156040895\t.\t.\t.\tID=chromosome:X;Alias=CM000685.2,chrX,NC_000023.11\n",
      "Y\tEnsembl\u001b[01;31m\u001b[K\tchromosome\t\u001b[m\u001b[K2781480\t56887902\t.\t.\t.\tID=chromosome:Y;Alias=CM000686.2,chrY,NC_000024.10\n",
      "\n",
      "number of genes: 21487\n",
      "\n",
      "sources:\n",
      ".\n",
      "ensembl\n",
      "Ensembl\n",
      "ensembl_havana\n",
      "ensembl_havana_tagene\n",
      "havana\n",
      "havana_tagene\n",
      "insdc\n",
      "mirbase\n",
      "\n",
      "feature types:\n",
      " 182510 biological_region\n",
      " 762023 CDS\n",
      "     29 C_gene_segment\n",
      "     25 chromosome\n",
      "     41 D_gene_segment\n",
      "1371695 exon\n",
      " 152699 five_prime_UTR\n",
      "  21487 gene\n",
      "     97 J_gene_segment\n",
      " 103513 lnc_RNA\n",
      "   1879 miRNA\n",
      "  99916 mRNA\n",
      "   2235 ncRNA\n",
      "  23934 ncRNA_gene\n",
      "  15202 pseudogene\n",
      "  15251 pseudogenic_transcript\n",
      "     60 rRNA\n",
      "    169 scaffold\n",
      "     50 scRNA\n",
      "    954 snoRNA\n",
      "   1915 snRNA\n",
      " 153974 three_prime_UTR\n",
      "     22 tRNA\n",
      "   1155 unconfirmed_transcript\n",
      "      1 vaultRNA_primary_transcript\n",
      "    250 V_gene_segment\n",
      "\n",
      "number of gene names: 21473\n",
      "\n",
      "number of genes without names: 0\n"
     ]
    }
   ],
   "source": [
    "stats \"grch38.gff3\""
   ]
  },
  {
   "cell_type": "code",
   "execution_count": 74,
   "metadata": {},
   "outputs": [
    {
     "name": "stdout",
     "output_type": "stream",
     "text": [
      "/tmp/tmp.qouf2gzepA\n",
      "1\tEnsembl\tchromosome\t1\t248956422\t.\t.\t.\tID=chromosome:1;Alias=CM000663.2,chr1,NC_000001.11\n",
      "1\t.\tbiological_region\t10469\t11240\t1.3e+03\t.\t.\texternal_name=oe %3D 0.79;logic_name=cpg\n",
      "1\t.\tbiological_region\t10650\t10657\t0.999\t+\t.\tlogic_name=eponine\n",
      "1\t.\tbiological_region\t10655\t10657\t0.999\t-\t.\tlogic_name=eponine\n",
      "1\t.\tbiological_region\t10678\t10687\t0.999\t+\t.\tlogic_name=eponine\n",
      "1\t.\tbiological_region\t10681\t10688\t0.999\t-\t.\tlogic_name=eponine\n",
      "1\t.\tbiological_region\t10707\t10716\t0.999\t+\t.\tlogic_name=eponine\n",
      "1\t.\tbiological_region\t10708\t10718\t0.999\t-\t.\tlogic_name=eponine\n",
      "1\t.\tbiological_region\t10735\t10747\t0.999\t-\t.\tlogic_name=eponine\n",
      "1\t.\tbiological_region\t10737\t10744\t0.999\t+\t.\tlogic_name=eponine\n",
      "number of chomosomes: 1\n",
      "1\tEnsembl\u001b[01;31m\u001b[K\tchromosome\t\u001b[m\u001b[K1\t248956422\t.\t.\t.\tID=chromosome:1;Alias=CM000663.2,chr1,NC_000001.11\n",
      "\n",
      "number of genes: 2091\n",
      "\n",
      "sources:\n",
      ".\n",
      "ensembl\n",
      "Ensembl\n",
      "ensembl_havana\n",
      "ensembl_havana_tagene\n",
      "havana\n",
      "havana_tagene\n",
      "mirbase\n",
      "\n",
      "feature types:\n",
      "  16825 biological_region\n",
      "  71699 CDS\n",
      "      1 chromosome\n",
      " 126208 exon\n",
      "  12935 five_prime_UTR\n",
      "   2091 gene\n",
      "   9208 lnc_RNA\n",
      "    158 miRNA\n",
      "   8692 mRNA\n",
      "    192 ncRNA\n",
      "   2088 ncRNA_gene\n",
      "   1293 pseudogene\n",
      "   1298 pseudogenic_transcript\n",
      "     22 rRNA\n",
      "     14 scRNA\n",
      "     68 snoRNA\n",
      "    220 snRNA\n",
      "  13910 three_prime_UTR\n",
      "     43 unconfirmed_transcript\n",
      "\n",
      "number of gene names: 2090\n",
      "\n",
      "number of genes without names: 0\n",
      "done\n"
     ]
    }
   ],
   "source": [
    "tmp=`mktemp`\n",
    "echo $tmp\n",
    "grep -P \"^1\\t\" grch38.gff3 > $tmp\n",
    "head -n 10 $tmp\n",
    "stats $tmp\n",
    "\n",
    "rm $tmp\n",
    "echo \"done\""
   ]
  },
  {
   "cell_type": "markdown",
   "metadata": {},
   "source": [
    "<hr>\n",
    "## Excercise 4\n",
    "Construct a series of files,one for each chromosome (by discarding scaffolds) and make them as valid GFF3 files. The file smust be saved into a folder named \"GRCH38\"."
   ]
  },
  {
   "cell_type": "code",
   "execution_count": 89,
   "metadata": {},
   "outputs": [
    {
     "name": "stdout",
     "output_type": "stream",
     "text": [
      "mkdir: cannot create directory ‘GRCH38’: File exists\n",
      "1\n",
      "11\n",
      "12\n",
      "13\n",
      "14\n",
      "15\n",
      "16\n",
      "17\n",
      "18\n",
      "19\n",
      "2\n",
      "21\n",
      "22\n",
      "3\n",
      "4\n",
      "5\n",
      "6\n",
      "7\n",
      "8\n",
      "9\n",
      "MT\n",
      "X\n",
      "Y\n"
     ]
    }
   ],
   "source": [
    "mkdir GRCH38\n",
    "\n",
    "#grep -v -P \"^#\" grch38.gff3 | cut -f1 | sort | uniq\n",
    "chrs=`grep -v -P \"^#\" grch38.gff3 | cut -f1 | sort | uniq | grep -P \"^([1-9]+|X|Y|MT)$\"`\n",
    "\n",
    "for chr in $chrs \n",
    "do\n",
    "    echo $chr\n",
    "    ofile=\"GRCH38/grch38.${chr}.gff3\"\n",
    "    head -n 1 grch38.gff3 > $ofile\n",
    "    grep \"##sequence-region   ${chr} \" grch38.gff3 >> $ofile\n",
    "    #cat $ofile\n",
    "    grep -P \"^${chr}\\t\" grch38.gff3 >>$ofile\n",
    "    #head -n 10 $ofile\n",
    "\n",
    "done\n"
   ]
  },
  {
   "cell_type": "code",
   "execution_count": 90,
   "metadata": {},
   "outputs": [
    {
     "name": "stdout",
     "output_type": "stream",
     "text": [
      "##gff-version 3\n",
      "##sequence-region   1 1 248956422\n",
      "1\tEnsembl\tchromosome\t1\t248956422\t.\t.\t.\tID=chromosome:1;Alias=CM000663.2,chr1,NC_000001.11\n",
      "1\t.\tbiological_region\t10469\t11240\t1.3e+03\t.\t.\texternal_name=oe %3D 0.79;logic_name=cpg\n",
      "1\t.\tbiological_region\t10650\t10657\t0.999\t+\t.\tlogic_name=eponine\n",
      "1\t.\tbiological_region\t10655\t10657\t0.999\t-\t.\tlogic_name=eponine\n",
      "1\t.\tbiological_region\t10678\t10687\t0.999\t+\t.\tlogic_name=eponine\n",
      "1\t.\tbiological_region\t10681\t10688\t0.999\t-\t.\tlogic_name=eponine\n",
      "1\t.\tbiological_region\t10707\t10716\t0.999\t+\t.\tlogic_name=eponine\n",
      "1\t.\tbiological_region\t10708\t10718\t0.999\t-\t.\tlogic_name=eponine\n"
     ]
    }
   ],
   "source": [
    "head -n 10 GRCH38/grch38.1.gff3"
   ]
  },
  {
   "cell_type": "markdown",
   "metadata": {},
   "source": [
    "<hr>\n",
    "## Excercise 5\n",
    "Make a csv file that reports the statistics of excercise 2 for each chromosome. Every statistic must be reported as number of elements, not as a list of elements."
   ]
  },
  {
   "cell_type": "code",
   "execution_count": 6,
   "metadata": {},
   "outputs": [
    {
     "name": "stdout",
     "output_type": "stream",
     "text": [
      "# chr file nof_chrs nof_genes nof_sources not_ftypes nof_names nof_nonames\n",
      "# 1 GRCH38/grch38.1.gff3 1 2091 8 19 2090 0\n",
      "# 11 GRCH38/grch38.11.gff3 1 1393 7 19 1393 0\n",
      "# 12 GRCH38/grch38.12.gff3 1 1133 8 18 1133 0\n",
      "# 13 GRCH38/grch38.13.gff3 1 349 8 17 349 0\n",
      "# 14 GRCH38/grch38.14.gff3 1 839 8 23 839 0\n",
      "# 15 GRCH38/grch38.15.gff3 1 659 7 20 659 0\n",
      "# 16 GRCH38/grch38.16.gff3 1 991 8 19 991 0\n",
      "# 17 GRCH38/grch38.17.gff3 1 1285 8 19 1285 0\n",
      "# 18 GRCH38/grch38.18.gff3 1 318 7 18 318 0\n",
      "# 19 GRCH38/grch38.19.gff3 1 1546 7 18 1546 0\n",
      "# 2 GRCH38/grch38.2.gff3 1 1355 7 22 1354 0\n",
      "# 21 GRCH38/grch38.21.gff3 1 261 7 19 261 0\n",
      "# 22 GRCH38/grch38.22.gff3 1 504 7 22 503 0\n",
      "# 3 GRCH38/grch38.3.gff3 1 1104 8 19 1102 0\n",
      "# 4 GRCH38/grch38.4.gff3 1 789 8 19 789 0\n",
      "# 5 GRCH38/grch38.5.gff3 1 957 8 19 955 0\n",
      "# 6 GRCH38/grch38.6.gff3 1 1082 8 19 1080 0\n",
      "# 7 GRCH38/grch38.7.gff3 1 1038 7 22 1036 0\n",
      "# 8 GRCH38/grch38.8.gff3 1 715 7 18 714 0\n",
      "# 9 GRCH38/grch38.9.gff3 1 800 8 20 800 0\n",
      "# MT GRCH38/grch38.MT.gff3 1 13 4 9 13 0\n",
      "# X GRCH38/grch38.X.gff3 1 868 8 19 867 0\n",
      "# Y GRCH38/grch38.Y.gff3 1 48 6 15 48 0\n"
     ]
    }
   ],
   "source": [
    "tmp=`mktemp`\n",
    "\n",
    "chrs=`grep -v -P \"^#\" grch38.gff3 | cut -f1 | sort | uniq | grep -P \"^([1-9]+|X|Y|MT)$\"`\n",
    "\n",
    "echo \"# chr file nof_chrs nof_genes nof_sources not_ftypes nof_names nof_nonames\"\n",
    "\n",
    "for chr in $chrs \n",
    "do\n",
    "    ifile=\"GRCH38/grch38.${chr}.gff3\"\n",
    "    #echo $ifile\n",
    "    stats $ifile > $tmp\n",
    "    #cat $tmp\n",
    "    c1=`grep \"number of chomosomes: \" $tmp | sed s/number\\ of\\ chomosomes:\\ //g`\n",
    "    c2=`grep \"number of genes: \" $tmp | sed s/number\\ of\\ genes:\\ //g`\n",
    "    \n",
    "    start=`grep -n \"sources:\" $tmp | cut -d\":\" -f1`\n",
    "    end=`grep -n \"feature types:\" $tmp | cut -d\":\" -f1`\n",
    "    (( c3 = $end - $start - 2 ))\n",
    "    \n",
    "    start=`grep -n \"feature types:\" $tmp | cut -d\":\" -f1`\n",
    "    end=`grep -n \"number of gene names:\" $tmp | cut -d\":\" -f1`\n",
    "    (( c4 = $end - $start - 2 ))\n",
    "    \n",
    "    c5=`grep \"number of gene names: \" $tmp | sed s/number\\ of\\ gene\\ names:\\ //g`\n",
    "    c6=`grep \"number of genes without names: \" $tmp | sed s/number\\ of\\ genes\\ without\\ names:\\ //g`\n",
    "    echo \"# $chr $ifile $c1 $c2 $c3 $c4 $c5 $c6\"\n",
    "done\n",
    "\n",
    "rm $tmp"
   ]
  },
  {
   "cell_type": "markdown",
   "metadata": {},
   "source": [
    "<hr>\n",
    "## Excercise 6\n",
    "The file `families.fa` in the `data` folder contains the aminoacidic sequences of genes belonging to differevt genomes. \n",
    "Each sequence is composed by a description line, which starts with a character `>` and contains three fields separeted by a tabulation character. \n",
    "The first field is teh name of the genome, the second one is a unique gene identifier, and the thrid field report the family to which the gene belongs.\n",
    "Subsequently, the aminoacidic sequence of the gene is reported by slpitting it into multiple lines that are no longer than 80 characters.\n",
    "\n",
    "Answer to the following questions:\n",
    "1. how many genomes are reported in the file?\n",
    "2. how many genes are reported in the file?\n",
    "3. how many genes each genome has?\n",
    "4. how many genes each family has?\n",
    "5. which is the average length of the aminoacidic sequences? Is there any difference betwen using `bc` and the standard numerical environment?\n",
    "6. make a distrubution of the gene length. For each length, report how many genes have such a length."
   ]
  },
  {
   "cell_type": "code",
   "execution_count": 2,
   "metadata": {},
   "outputs": [
    {
     "name": "stdout",
     "output_type": "stream",
     "text": [
      "50\n"
     ]
    }
   ],
   "source": [
    "grep \">\" data/families.fa | cut -f1 | sort | uniq | wc -l"
   ]
  },
  {
   "cell_type": "code",
   "execution_count": 3,
   "metadata": {},
   "outputs": [
    {
     "name": "stdout",
     "output_type": "stream",
     "text": [
      "29479\n"
     ]
    }
   ],
   "source": [
    "grep \">\" data/families.fa | cut -f2 | sort | uniq | wc -l"
   ]
  },
  {
   "cell_type": "code",
   "execution_count": 8,
   "metadata": {},
   "outputs": [
    {
     "name": "stdout",
     "output_type": "stream",
     "text": [
      "    596 genome_1051\n",
      "    591 genome_1108\n",
      "    590 genome_1122\n",
      "    601 genome_1132\n",
      "    604 genome_1163\n",
      "    594 genome_1208\n",
      "    577 genome_1229\n",
      "    595 genome_1252\n",
      "    576 genome_1308\n",
      "    581 genome_1309\n",
      "    593 genome_1328\n",
      "    575 genome_1366\n",
      "    592 genome_1371\n",
      "    600 genome_1374\n",
      "    594 genome_1375\n",
      "    582 genome_1407\n",
      "    579 genome_1435\n",
      "    578 genome_1474\n",
      "    588 genome_1569\n",
      "    580 genome_1602\n"
     ]
    }
   ],
   "source": [
    "grep \">\" data/families.fa | sed s/\\>//g | cut -f1 | sort | uniq -c   | head -n 20"
   ]
  },
  {
   "cell_type": "code",
   "execution_count": 9,
   "metadata": {},
   "outputs": [
    {
     "name": "stdout",
     "output_type": "stream",
     "text": [
      "     50 sequence_0\n",
      "     50 sequence_1\n",
      "     50 sequence_10\n",
      "     49 sequence_100\n",
      "      1 sequence_1000\n",
      "      1 sequence_1001\n",
      "      1 sequence_1002\n",
      "      1 sequence_1003\n",
      "      1 sequence_1004\n",
      "      1 sequence_1005\n",
      "      1 sequence_1006\n",
      "      1 sequence_1007\n",
      "     50 sequence_101\n",
      "      1 sequence_10122\n",
      "      1 sequence_10123\n",
      "      1 sequence_10124\n",
      "      1 sequence_10125\n",
      "      1 sequence_10126\n",
      "      1 sequence_10127\n",
      "      3 sequence_1014\n",
      "uniq: write error: Broken pipe\n"
     ]
    }
   ],
   "source": [
    "grep \">\" data/families.fa |  cut -f3 | sort | uniq -c  | head -n 20\n"
   ]
  },
  {
   "cell_type": "code",
   "execution_count": 12,
   "metadata": {},
   "outputs": [
    {
     "name": "stdout",
     "output_type": "stream",
     "text": [
      "170 310 354.57647058823529411720\n"
     ]
    }
   ],
   "source": [
    "tmp=`mktemp`\n",
    "\n",
    "\n",
    "head -n 1000 data/families.fa | sed s/\\>.*$/\\>/g | tr -d '\\n' | sed s/\\>/\\\\n/g >$tmp\n",
    "#sed s/\\>.*$/\\>/g data/families.fa | tr -d '\\n' | sed s/\\>/\\\\n/g >$tmp\n",
    "\n",
    "function getlengths {\n",
    "    while read line\n",
    "    do\n",
    "        #echo \"@\" $line\n",
    "        echo $line | wc -c\n",
    "    done < $1\n",
    "}\n",
    "\n",
    "lengths=`getlengths $tmp`\n",
    "n=0\n",
    "avg=0\n",
    "avgi=0\n",
    "for l in $lengths\n",
    "do\n",
    "(( avgi =  (($avgi * $n) + $l) / ($n + 1)  ))\n",
    "avg=`echo \"(($avg * $n ) + $l ) / ($n + 1.0)\"  | bc -l`\n",
    "#echo $l $avgi $avg\n",
    "(( n = n + 1 ))\n",
    "done\n",
    "\n",
    "echo $n $avgi $avg\n",
    "\n",
    "rm $tmp"
   ]
  },
  {
   "cell_type": "code",
   "execution_count": 11,
   "metadata": {},
   "outputs": [
    {
     "name": "stdout",
     "output_type": "stream",
     "text": [
      "      1 1\n",
      "      1 1026\n",
      "      2 104\n",
      "      1 109\n",
      "      1 1117\n",
      "      1 116\n",
      "      1 1191\n",
      "      1 122\n",
      "      1 123\n",
      "      1 124\n",
      "      1 126\n",
      "      1 128\n",
      "      1 129\n",
      "      1 1290\n",
      "      2 131\n",
      "      1 132\n",
      "      2 134\n",
      "      2 136\n",
      "      1 137\n",
      "      1 138\n",
      "      2 140\n",
      "      3 142\n",
      "      1 146\n",
      "      1 150\n",
      "      1 151\n",
      "      1 153\n",
      "      1 156\n",
      "      1 158\n",
      "      1 161\n",
      "      1 166\n",
      "      1 168\n",
      "      1 176\n",
      "      1 182\n",
      "      1 187\n",
      "      1 188\n",
      "      1 189\n",
      "      1 190\n",
      "      1 195\n",
      "      1 196\n",
      "      1 201\n",
      "      1 204\n",
      "      1 207\n",
      "      1 208\n",
      "      1 213\n",
      "      1 214\n",
      "      1 217\n",
      "      1 219\n",
      "      1 225\n",
      "      1 235\n",
      "      1 237\n",
      "      1 238\n",
      "      1 240\n",
      "      1 241\n",
      "      1 246\n",
      "      1 248\n",
      "      1 250\n",
      "      1 258\n",
      "      2 261\n",
      "      1 263\n",
      "      1 264\n",
      "      1 267\n",
      "      2 271\n",
      "      1 275\n",
      "      1 281\n",
      "      1 285\n",
      "      1 288\n",
      "      1 289\n",
      "      1 292\n",
      "      1 295\n",
      "      2 299\n",
      "      1 303\n",
      "      1 306\n",
      "      1 313\n",
      "      1 315\n",
      "      2 316\n",
      "      1 325\n",
      "      1 326\n",
      "      1 327\n",
      "      1 333\n",
      "      1 336\n",
      "      1 340\n",
      "      1 341\n",
      "      1 348\n",
      "      1 351\n",
      "      1 352\n",
      "      1 361\n",
      "      1 363\n",
      "      1 370\n",
      "      1 372\n",
      "      1 374\n",
      "      1 375\n",
      "      1 376\n",
      "      1 380\n",
      "      4 390\n",
      "      1 393\n",
      "      1 396\n",
      "      1 401\n",
      "      1 409\n",
      "      1 411\n",
      "      1 421\n",
      "      1 427\n",
      "      1 435\n",
      "      1 452\n",
      "      1 458\n",
      "      1 460\n",
      "      1 470\n",
      "      1 473\n",
      "      1 474\n",
      "      1 492\n",
      "      1 502\n",
      "      2 513\n",
      "      1 522\n",
      "      1 528\n",
      "      2 56\n",
      "      2 561\n",
      "      1 566\n",
      "      1 572\n",
      "      1 588\n",
      "      1 59\n",
      "      1 598\n",
      "      1 602\n",
      "      1 604\n",
      "      1 617\n",
      "      1 62\n",
      "      1 626\n",
      "      1 640\n",
      "      1 644\n",
      "      1 654\n",
      "      1 664\n",
      "      1 668\n",
      "      1 669\n",
      "      1 713\n",
      "      1 723\n",
      "      1 728\n",
      "      1 74\n",
      "      1 743\n",
      "      1 752\n",
      "      1 758\n",
      "      1 76\n",
      "      1 790\n",
      "      1 796\n",
      "      1 82\n",
      "      1 840\n",
      "      1 870\n",
      "      1 883\n",
      "      2 90\n",
      "      1 903\n",
      "      1 93\n",
      "      1 938\n",
      "      1 946\n",
      "      1 97\n",
      "      1 98\n"
     ]
    }
   ],
   "source": [
    "tmp=`mktemp`\n",
    "\n",
    "\n",
    "head -n 1000 data/families.fa | sed s/\\>.*$/\\>/g | tr -d '\\n' | sed s/\\>/\\\\n/g >$tmp\n",
    "#sed s/\\>.*$/\\>/g data/families.fa | tr -d '\\n' | sed s/\\>/\\\\n/g >$tmp\n",
    "\n",
    "function getlengths {\n",
    "    while read line\n",
    "    do\n",
    "        #echo \"@\" $line\n",
    "        echo $line | wc -c\n",
    "    done < $1\n",
    "}\n",
    "\n",
    "lengths=`getlengths $tmp | sort | uniq -c`\n",
    "echo \"$lengths\"\n",
    "\n",
    "rm $tmp"
   ]
  }
 ],
 "metadata": {
  "kernelspec": {
   "display_name": "Bash",
   "language": "bash",
   "name": "bash"
  },
  "language_info": {
   "codemirror_mode": "shell",
   "file_extension": ".sh",
   "mimetype": "text/x-sh",
   "name": "bash"
  }
 },
 "nbformat": 4,
 "nbformat_minor": 2
}
